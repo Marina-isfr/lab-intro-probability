{
 "cells": [
  {
   "cell_type": "markdown",
   "metadata": {},
   "source": [
    "# Lab | Intro to Probability"
   ]
  },
  {
   "cell_type": "markdown",
   "metadata": {},
   "source": [
    "**Objective**\n",
    "\n",
    "Welcome to this Intro to Probability lab, where we explore decision-making scenarios through the lens of probability and strategic analysis. In the business world, making informed decisions is crucial, especially when faced with uncertainties. This lab focuses on scenarios where probabilistic outcomes play a significant role in shaping strategies and outcomes. Students will engage in exercises that require assessing and choosing optimal paths based on data-driven insights. The goal is to enhance your skills by applying probability concepts to solve real-world problems."
   ]
  },
  {
   "cell_type": "markdown",
   "metadata": {},
   "source": [
    "**Challenge 1**"
   ]
  },
  {
   "cell_type": "markdown",
   "metadata": {},
   "source": [
    "#### Ironhack Airlines \n",
    "\n",
    "Often Airlines sell more tickets than they have seats available, this is called overbooking. Consider the following:\n",
    "- A plane has 450 seats. \n",
    "- Based on historical data we conclude that each individual passenger has a 3% chance of missing it's flight. \n",
    "\n",
    "If the Ironhack Airlines routinely sells 460 tickets, what is the chance that they have a seats for all passenger?"
   ]
  },
  {
   "cell_type": "code",
   "execution_count": 3,
   "metadata": {
    "tags": []
   },
   "outputs": [
    {
     "name": "stdout",
     "output_type": "stream",
     "text": [
      "The probability that Ironhack Airlines will have seats for all passengers is: 0.8845\n"
     ]
    }
   ],
   "source": [
    "import scipy.stats as stats\n",
    "\n",
    "\n",
    "n = 460  # number of tickets sold\n",
    "p = 0.03  # probability of missing the flight\n",
    "k = 450  # number of seats\n",
    "\n",
    "# Probability that x or more passengers will miss the flight\n",
    "x = 10  # number of passengers that need to miss the flight to ensure all others get seats\n",
    "\n",
    "# probability that fewer than x passengers will miss the flight\n",
    "prob_less_than_x_miss = stats.binom.cdf(x-1, n, p)\n",
    "\n",
    "# probability that at least x passengers will miss the flight\n",
    "prob_at_least_x_miss = 1 - prob_less_than_x_miss\n",
    "\n",
    "print(f\"The probability that Ironhack Airlines will have seats for all passengers is: {prob_at_least_x_miss:.4f}\")\n"
   ]
  },
  {
   "cell_type": "markdown",
   "metadata": {},
   "source": [
    "**Challenge 2**"
   ]
  },
  {
   "cell_type": "markdown",
   "metadata": {},
   "source": [
    "#### Ironhack Call Center "
   ]
  },
  {
   "cell_type": "markdown",
   "metadata": {},
   "source": [
    "Suppose a customer service representative at a call center is handling customer complaints. Consider the following:\n",
    "- The probability of successfully resolving a customer complaint on the first attempt is 0.3. \n",
    "\n",
    "\n",
    "What is the probability that the representative needs to make at least three attempts before successfully resolving a customer complaint?"
   ]
  },
  {
   "cell_type": "code",
   "execution_count": 5,
   "metadata": {},
   "outputs": [
    {
     "name": "stdout",
     "output_type": "stream",
     "text": [
      "Probability of needing at least three attempts: 0.4899999999999996\n"
     ]
    }
   ],
   "source": [
    "def geometric_probability(p, k):\n",
    "    \"\"\"Calculate the probability of needing k or more attempts to succeed with probability p.\"\"\"\n",
    "    q = 1 - p  # Probability of failure\n",
    "    return q ** (k - 1) * p\n",
    "\n",
    "p_success_first_attempt = 0.3  # Prob of success on the 1st attempt\n",
    "\n",
    "# Probability of needing at least three attempts\n",
    "prob_at_least_three_attempts = sum(geometric_probability(p_success_first_attempt, k) for k in range(3, 1000))\n",
    "\n",
    "print(\"Probability of needing at least three attempts:\", prob_at_least_three_attempts)\n"
   ]
  },
  {
   "cell_type": "markdown",
   "metadata": {},
   "source": [
    "**Challenge 3**"
   ]
  },
  {
   "cell_type": "markdown",
   "metadata": {},
   "source": [
    "#### Ironhack Website"
   ]
  },
  {
   "cell_type": "markdown",
   "metadata": {},
   "source": [
    "Consider a scenario related to Ironhack website traffic. Where:\n",
    "- our website takes on average 500 visits per hour.\n",
    "- the website's server is designed to handle up to 550 vists per hour.\n",
    "\n",
    "\n",
    "What is the probability of the website server being overwhelmed?"
   ]
  },
  {
   "cell_type": "code",
   "execution_count": 7,
   "metadata": {},
   "outputs": [
    {
     "name": "stdout",
     "output_type": "stream",
     "text": [
      "Probability of the server being overwhelmed: 0.01289822084039205\n"
     ]
    }
   ],
   "source": [
    "from scipy.stats import poisson\n",
    "\n",
    "average_visits_per_hour = 500\n",
    "server_capacity = 550\n",
    "\n",
    "# Probability of having more than 550 visits per hour\n",
    "probability_overwhelmed = 1 - poisson.cdf(server_capacity, average_visits_per_hour)\n",
    "\n",
    "print(\"Probability of the server being overwhelmed:\", probability_overwhelmed)"
   ]
  },
  {
   "cell_type": "markdown",
   "metadata": {},
   "source": [
    "What is the probability of being overwhelmed at some point during a day? (consider 24hours)"
   ]
  },
  {
   "cell_type": "code",
   "execution_count": 9,
   "metadata": {},
   "outputs": [
    {
     "name": "stdout",
     "output_type": "stream",
     "text": [
      "Probability of being overwhelmed at some point during the day: 0.2677043869515715\n"
     ]
    }
   ],
   "source": [
    "from scipy.stats import poisson\n",
    "\n",
    "average_visits_per_hour = 500\n",
    "server_capacity = 550\n",
    "hours_in_day = 24\n",
    "\n",
    "# Probability of not being overwhelmed in a single hour\n",
    "probability_not_overwhelmed_hour = poisson.cdf(server_capacity, average_visits_per_hour)\n",
    "\n",
    "# Probability of not being overwhelmed in hours\n",
    "probability_not_overwhelmed_day = probability_not_overwhelmed_hour ** hours_in_day\n",
    "\n",
    "# Probability of being overwhelmed at some point during the day\n",
    "probability_overwhelmed_day = 1 - probability_not_overwhelmed_day\n",
    "\n",
    "print(\"Probability of being overwhelmed at some point during the day:\", probability_overwhelmed_day)\n"
   ]
  },
  {
   "cell_type": "markdown",
   "metadata": {},
   "source": [
    "**Challenge 4**"
   ]
  },
  {
   "cell_type": "markdown",
   "metadata": {},
   "source": [
    "#### Ironhack Helpdesk"
   ]
  },
  {
   "cell_type": "markdown",
   "metadata": {},
   "source": [
    "Consider a scenario related to the time between arrivals of customers at a service desk.\n",
    "\n",
    "On average, a customers arrives every 10minutes.\n",
    "\n",
    "What is the probability that the next customer will arrive within the next 5 minutes?"
   ]
  },
  {
   "cell_type": "code",
   "execution_count": 13,
   "metadata": {},
   "outputs": [
    {
     "name": "stdout",
     "output_type": "stream",
     "text": [
      "Probability that the next customer will arrive within the next 5 minutes: 0.3934693402873666\n"
     ]
    }
   ],
   "source": [
    "from scipy.stats import expon\n",
    "\n",
    "average_arrival_rate = 1 / 10  # Customers per minute\n",
    "time_interval = 5  # 5 minutes\n",
    "\n",
    "# Probability that the next customer will arrive within the next 5 minutes\n",
    "probability_within_5_minutes = expon.cdf(time_interval, scale=1 / average_arrival_rate)\n",
    "\n",
    "print(\"Probability that the next customer will arrive within the next 5 minutes:\", probability_within_5_minutes)"
   ]
  },
  {
   "cell_type": "markdown",
   "metadata": {},
   "source": [
    "If there is no customer for 15minutes, employees can that a 5minutes break.\n",
    "\n",
    "What is the probability an employee taking a break?"
   ]
  },
  {
   "cell_type": "code",
   "execution_count": 15,
   "metadata": {},
   "outputs": [
    {
     "name": "stdout",
     "output_type": "stream",
     "text": [
      "Probability of an employee taking a break: 0.2231301601484298\n"
     ]
    }
   ],
   "source": [
    "from scipy.stats import expon\n",
    "\n",
    "average_arrival_rate = 1 / 10  # Customers per minute\n",
    "break_interval = 15  # 15 minutes\n",
    "\n",
    "# Probability of not having any customer arrivals in 15 minutes\n",
    "probability_no_arrival = expon.cdf(break_interval, scale=1 / average_arrival_rate)\n",
    "\n",
    "# Probability of taking a break (complementary probability)\n",
    "probability_break = 1 - probability_no_arrival\n",
    "\n",
    "print(\"Probability of an employee taking a break:\", probability_break)"
   ]
  },
  {
   "cell_type": "markdown",
   "metadata": {},
   "source": [
    "**Challenge 5**"
   ]
  },
  {
   "cell_type": "markdown",
   "metadata": {},
   "source": [
    "The weights of a certain species of birds follow a normal distribution with a mean weight of 150 grams and a standard deviation of 10 grams. \n",
    "\n",
    "- If we randomly select a bird, what is the probability that its weight is between 140 and 160 grams?"
   ]
  },
  {
   "cell_type": "code",
   "execution_count": 17,
   "metadata": {},
   "outputs": [
    {
     "name": "stdout",
     "output_type": "stream",
     "text": [
      "Probability that the bird's weight is between 140 and 160 grams: 0.6826894921370859\n"
     ]
    }
   ],
   "source": [
    "from scipy.stats import norm\n",
    "\n",
    " # Mean weight in grams\n",
    "mean_weight = 150  \n",
    "std_dev = 10  \n",
    "# Standard deviation in grams\n",
    "std_dev = 10 \n",
    "# Lower bound of the weight range\n",
    "lower_bound = 140  \n",
    "# Upper bound of the weight range\n",
    "upper_bound = 160 \n",
    "\n",
    "# Probability that the bird's weight is bet140 and 160 grams\n",
    "probability_within_range = norm.cdf(upper_bound, loc=mean_weight, scale=std_dev) - norm.cdf(lower_bound, loc=mean_weight, scale=std_dev)\n",
    "\n",
    "print(\"Probability that the bird's weight is between 140 and 160 grams:\", probability_within_range)\n"
   ]
  },
  {
   "cell_type": "markdown",
   "metadata": {},
   "source": [
    "**Challenge 6**"
   ]
  },
  {
   "cell_type": "markdown",
   "metadata": {},
   "source": [
    "If the lifetime (in hours) of a certain electronic component follows an exponential distribution with a mean lifetime of 50 hours, what is the probability that the component fails within the first 30 hours?"
   ]
  },
  {
   "cell_type": "code",
   "execution_count": 19,
   "metadata": {},
   "outputs": [
    {
     "name": "stdout",
     "output_type": "stream",
     "text": [
      "Probability that the component fails within the first 30 hours: 0.4511883639059735\n"
     ]
    }
   ],
   "source": [
    "from scipy.stats import expon\n",
    "\n",
    "mean_lifetime = 50  # Mean lifetime in hours\n",
    "time_interval = 30  # Time interval in hours\n",
    "\n",
    "# Probability that the component fails within the first 30 hours\n",
    "probability_failure_within_30_hours = expon.cdf(time_interval, scale=mean_lifetime)\n",
    "\n",
    "print(\"Probability that the component fails within the first 30 hours:\", probability_failure_within_30_hours)"
   ]
  },
  {
   "cell_type": "code",
   "execution_count": null,
   "metadata": {},
   "outputs": [],
   "source": []
  }
 ],
 "metadata": {
  "kernelspec": {
   "display_name": "Python 3 (ipykernel)",
   "language": "python",
   "name": "python3"
  },
  "language_info": {
   "codemirror_mode": {
    "name": "ipython",
    "version": 3
   },
   "file_extension": ".py",
   "mimetype": "text/x-python",
   "name": "python",
   "nbconvert_exporter": "python",
   "pygments_lexer": "ipython3",
   "version": "3.11.7"
  }
 },
 "nbformat": 4,
 "nbformat_minor": 4
}
